{
  "nbformat": 4,
  "nbformat_minor": 0,
  "metadata": {
    "colab": {
      "provenance": [],
      "authorship_tag": "ABX9TyOwt6nKYr7KvwW7yuD5+ynn",
      "include_colab_link": true
    },
    "kernelspec": {
      "name": "python3",
      "display_name": "Python 3"
    },
    "language_info": {
      "name": "python"
    }
  },
  "cells": [
    {
      "cell_type": "markdown",
      "metadata": {
        "id": "view-in-github",
        "colab_type": "text"
      },
      "source": [
        "<a href=\"https://colab.research.google.com/github/erichardson97/cell_crushers/blob/main/exploratory_data_analysis/eda.ipynb\" target=\"_parent\"><img src=\"https://colab.research.google.com/assets/colab-badge.svg\" alt=\"Open In Colab\"/></a>"
      ]
    },
    {
      "cell_type": "code",
      "execution_count": null,
      "metadata": {
        "id": "OcueBYLg2vLD"
      },
      "outputs": [],
      "source": [
        "from google.colab import drive, files\n",
        "import pandas as pd\n",
        "from typing import Union, Callable\n",
        "import numpy as np\n",
        "from scipy.stats import spearmanr\n",
        "from sklearn.model_selection import train_test_split, KFold\n",
        "from sklearn.metrics import mean_squared_error\n",
        "from sklearn.preprocessing import StandardScaler\n",
        "from sklearn.linear_model import Lasso\n",
        "import seaborn as sns\n",
        "from matplotlib import pyplot as plt\n",
        "from scipy.optimize import minimize\n",
        "import pylab\n",
        "import scipy.stats as stats\n",
        "import os\n",
        "import sklearn\n",
        "\n",
        "drive.mount('/content/drive/')\n",
        "os.chdir('/content/drive/MyDrive/CMIPB_Files')\n"
      ]
    },
    {
      "cell_type": "code",
      "source": [
        "from scipy.cluster.hierarchy import linkage, fcluster\n",
        "from scipy.spatial.distance import squareform\n",
        "distances = non_gex.applymap(lambda x:1 - abs(x))\n",
        "distances = squareform(distances)\n",
        "linkage_ = linkage(distances)\n",
        "clusters = dict((p,v) for p,v in zip(non_gex.index, fcluster(linkage_, t = 0.2, criterion = 'distance')))\n",
        "in_dataset_df['Cluster'] = in_dataset_df.index.map(clusters)\n",
        "\n",
        "## Collinearity\n",
        "\n",
        "# collinearity = ds.data_filtered.corr()\n",
        "# type_feat = 'GEX'\n",
        "# collinearity = ds.data_filtered.drop(['dataset'],axis=1).applymap(float).corr()\n",
        "\n",
        "def subset(df, feature_list: list):\n",
        "  return collinearity[feature_list].loc[feature_list]\n",
        "sns.set(font_scale=1)\n",
        "non_gex = subset(collinearity, list(in_dataset))\n",
        "ax = sns.clustermap(non_gex, row_linkage = linkage_, col_linkage = linkage_, cbar_kws = {'label':'Correlation coefficient\\n(Pearsons)'}, row_colors = in_dataset_df[['Differentiation', 'B cell activation', 'B-cell proliferation', 'Isotype switching', 'IgG', 'Activation', 'Plasma cell genes', 'Literature_features']].applymap(lambda x:(x, x, x)))"
      ],
      "metadata": {
        "id": "nRffTcGf2xo4"
      },
      "execution_count": null,
      "outputs": []
    },
    {
      "cell_type": "code",
      "source": [
        "from scipy.stats import t, linregress\n",
        "\n",
        "def prediction_and_interval(x, y, alpha =.05):\n",
        "    n = len(x)\n",
        "    t_stat = t.ppf(1-alpha/2, df=n-2)\n",
        "    r_object = linregress(x.values.astype(float), y.values.astype(float))\n",
        "    regression_xrange = np.linspace(min(x), max(x)+.01, 100)\n",
        "    y_pred = np.array([p*r_object.slope + r_object.intercept for p in x])\n",
        "    ss = sum((x-np.mean(x))**2)\n",
        "    se_regression = np.sqrt(\n",
        "            np.square(y-y_pred).sum()/(n-2)\n",
        "        )\n",
        "    regression_line = pd.DataFrame()\n",
        "    mean = np.mean(regression_xrange)\n",
        "    df = pd.DataFrame()\n",
        "    for i, value in enumerate(regression_xrange):\n",
        "        se = se_regression * np.sqrt(\n",
        "            1+1/n+np.square(value-mean)/ss\n",
        "        )\n",
        "        df.loc[i, 'x'] = value\n",
        "        df.loc[i, 'y_pred'] = r_object.intercept+r_object.slope*value\n",
        "        df.loc[i, 'lower'] = df.loc[i, 'y_pred']-t_stat*se\n",
        "        df.loc[i, 'upper'] = df.loc[i, 'y_pred']+t_stat*se\n",
        "    return df, r_object\n"
      ],
      "metadata": {
        "id": "rrBt5duo3Adb"
      },
      "execution_count": null,
      "outputs": []
    },
    {
      "cell_type": "code",
      "source": [
        "# @title Functions to look at between-batch correlation/ variance.\n",
        "\n",
        "\n",
        "\n",
        "def spearman_ratio(data, feature_list, corr_func = spearmanr, target = 'Day14_IgG_Titre'):\n",
        "  '''\n",
        "  Calculates Spearman's correlation coefficients for feature list with\n",
        "  target value, in 2020 and 2021 data. Returns df with\n",
        "  ratio of max_corr to min_corr.\n",
        "  '''\n",
        "  values = {}\n",
        "  for p in feature_list:\n",
        "    data[p] = data[p].map(lambda x:float(x) if x != 'ND' else x)\n",
        "  cohort1 = data[data['dataset']=='2020_dataset']\n",
        "  cohort2 = data[data['dataset']=='2021_dataset']\n",
        "  for p in feature_list:\n",
        "    assert data[data[p]!='ND'][p].map(type).nunique() == 1\n",
        "    assert data[data[p]!='ND'][p].map(type).unique()[0] == float\n",
        "    cohort2_val = corr_func(cohort2[cohort2[p]!='ND'][p].values, cohort2[cohort2[p]!='ND'][target].values)\n",
        "    cohort1_val = corr_func(cohort1[cohort1[p]!='ND'][p].values, cohort1[cohort1[p]!='ND'][target].values)\n",
        "    total_val = corr_func(data[data[p]!='ND'][p], data[data[p]!='ND'][target])\n",
        "    values[p] = {'2021_rho': cohort2_val[0],'2021_p':cohort2_val[1], '2020_rho':cohort1_val[0], '2020_p':cohort1_val[1],\n",
        "                 'total_rho':total_val[0], 'total_p':total_val[1]}\n",
        "  values = pd.DataFrame(values).fillna(0).T\n",
        "  values['Ratio'] = values.apply(lambda x:calc_ratio(x['2020_rho'], x['2021_rho']), axis =1 )\n",
        "  return values\n",
        "\n",
        "def calc_ratio(val_2020, val_2021):\n",
        "  if (val_2020 != 0) & (val_2021 != 0):\n",
        "    return max([val_2020, val_2021]) / min([val_2020, val_2021])\n",
        "  else:\n",
        "    if val_2020 == 0:\n",
        "      return val_2021\n",
        "    else:\n",
        "      return val_2020"
      ],
      "metadata": {
        "id": "O4XLDWOD3F_E"
      },
      "execution_count": null,
      "outputs": []
    },
    {
      "cell_type": "code",
      "source": [
        "fig, ax = plt.subplots(1,1,figsize=(5,5))\n",
        "feature = 'GEX_AP2B1'\n",
        "p = data[(data[feature]!='ND')&(data['Target']!='ND')]\n",
        "p['Target'] = p['Target'].map(float)\n",
        "p[feature] = p[feature].map(float)\n",
        "sns.scatterplot(data = p, x = feature, y = 'Target', hue = 'dataset', ax=ax)\n",
        "ax.set_ylabel('Z-normalized Day 14 IgG PT Titre')\n",
        "ax.set_xlabel(f'Z-normalized {feature}')\n",
        "regress2020, _ = prediction_and_interval(p[p['dataset']=='2020_dataset'][feature], p[p['dataset']=='2020_dataset']['Target'])\n",
        "regress2021, _ = prediction_and_interval(p[p['dataset']=='2021_dataset'][feature], p[p['dataset']=='2021_dataset']['Target'])\n",
        "sns.lineplot(data = regress2020, x = 'x', y = 'y_pred', c = 'C0')\n",
        "ax.fill_between(regress2020['x'], regress2020['lower'], regress2020['upper'], color='C0', alpha =.1)\n",
        "ax.fill_between(regress2021['x'], regress2021['lower'], regress2021['upper'], color='C1', alpha =.1)\n",
        "sns.lineplot(data = regress2021, x = 'x', y = 'y_pred', c = 'C1')\n",
        "ax.set_title('Opposing correlations')\n",
        "rho, pval = spearmanr(p[p['dataset']=='2020_dataset'][feature], p[p['dataset']=='2020_dataset']['Target'])\n",
        "\n",
        "ax.text(-2, 20, r'$\\rho$'+f': {rho:.2f}, p: {pval:.2f}', bbox=dict(facecolor='white', edgecolor='C0'))\n",
        "\n",
        "rho, pval = spearmanr(p[p['dataset']=='2021_dataset'][feature], p[p['dataset']=='2021_dataset']['Target'])\n",
        "ax.text(-2, 15, r'$\\rho$'+f': {rho:.2f}, p: {pval:.2f}', bbox=dict(facecolor='white', edgecolor='C1'))"
      ],
      "metadata": {
        "id": "isLI4F9Z3B_Q"
      },
      "execution_count": null,
      "outputs": []
    },
    {
      "cell_type": "code",
      "source": [
        "feature_list = list(data.columns)\n",
        "data = data[data['Target']!='ND']\n",
        "data['Target'] = data['Target'].map(float)\n",
        "feature_list.remove('dataset')\n",
        "feature_list.remove('Target')\n",
        "values = spearman_ratio(data, feature_list, target = 'Target')\n",
        "prefixes = set(['Titre','Cellfrequency','Cytokine','GEX'])\n",
        "values['Type'] = values.index.map(lambda x:x.split('_')[0] if x.split('_')[0] in prefixes else 'NA' )\n",
        "mean = values['Ratio'].mean()\n",
        "std = np.std(values['Ratio'])\n",
        "values['t_stat'] = (values['Ratio'].map(abs) - 1)/std\n",
        "values[(values['t_stat']>2)|(values['t_stat']<-2)]\n",
        "values.to_csv('RatioCorrCoefficients_Batch.csv')"
      ],
      "metadata": {
        "id": "YIgUU2zW3LH9"
      },
      "execution_count": null,
      "outputs": []
    }
  ]
}