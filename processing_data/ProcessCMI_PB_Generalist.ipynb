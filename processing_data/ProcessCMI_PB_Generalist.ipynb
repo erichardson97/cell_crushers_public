{
  "cells": [
    {
      "cell_type": "code",
      "execution_count": null,
      "metadata": {
        "colab": {
          "base_uri": "https://localhost:8080/"
        },
        "id": "z-LXyS2qVHuR",
        "outputId": "aab03963-2d28-4500-8f6e-f38ed5943996"
      },
      "outputs": [
        {
          "output_type": "stream",
          "name": "stdout",
          "text": [
            "Mounted at /content/drive/\n"
          ]
        }
      ],
      "source": [
        "from google.colab import drive, files\n",
        "import os\n",
        "import numpy as np\n",
        "import pandas as pd\n",
        "from glob import glob\n",
        "from collections import defaultdict\n",
        "import requests\n",
        "drive.mount('/content/drive/')\n"
      ]
    },
    {
      "cell_type": "code",
      "execution_count": null,
      "metadata": {
        "id": "RlmxTmrsrxAk"
      },
      "outputs": [],
      "source": [
        "#@title Enter working directory name\n",
        "working_directory = \"/content/drive/MyDrive/CMIPB_Files/Redownload\"#@param {type:\"string\"}\n",
        "if os.path.exists(working_directory) is False:\n",
        "  os.mkdir(working_directory)"
      ]
    },
    {
      "cell_type": "code",
      "execution_count": null,
      "metadata": {
        "id": "BtFi2bpaZV_q"
      },
      "outputs": [],
      "source": [
        "# @title Reading in the cytokine name + gene name conversions from google drive.\n",
        "\n",
        "sheet_url = 'https://docs.google.com/spreadsheets/d/1EIrUaQB7bJ1BO66x9TLfiXrbjpRyIwMQKru0HIgwr1s/edit#gid=0'\n",
        "url_1 = sheet_url.replace('/edit#gid=', '/export?format=csv&gid=')\n",
        "sheet = pd.read_csv(url_1)\n",
        "cytokine_mapping = dict(sheet[sheet[\"Category\"]=='Plasma cytokine'][['Feature name','Additional Feature name']].values)\n",
        "gene_mapping = dict(sheet[sheet[\"Category\"]=='Gene expression'][['Feature name','Additional Feature name']].values)\n"
      ]
    },
    {
      "cell_type": "code",
      "execution_count": null,
      "metadata": {
        "id": "osXD_7Wgsc4g"
      },
      "outputs": [],
      "source": [
        "# @title Download the files if you need to.\n",
        "\n",
        "def download_tsv(path, name):\n",
        "  print(requests.get(path).content.decode(), file = open(name, 'w'))\n",
        "\n",
        "# base_url = 'https://www.cmi-pb.org/downloads/cmipb_challenge_datasets/current/2nd_challenge/processed_datasets/training_dataset/master_processed_training_data_TSVs/'\n",
        "\n",
        "# files = ['abtiter_batchCorrected_data.tsv', 'abtiter_metadata.tsv', 'abtiter_normalized_data.tsv', 'abtiter_raw_data.tsv', 'pbmc_cell_frequency_batchCorrected_data.tsv',\n",
        "#          'pbmc_cell_frequency_metadata.tsv', 'pbmc_cell_frequency_normalized_data.tsv', 'pbmc_gene_expression_batchCorrected_data.tsv', 'pbmc_gene_expression_metadata.tsv',\n",
        "#          'pbmc_gene_expression_raw_data.tsv', 'plasma_cytokine_concentrations_batchCorrected_data.tsv', 'plasma_cytokine_concentrations_metadata.tsv', 'plasma_cytokine_concentrations_normalized_data.tsv',\n",
        "#          'subject_specimen.tsv']\n",
        "\n",
        "# file_path = os.path.join(working_directory, 'files')\n",
        "# if os.path.exists(file_path) is False:\n",
        "#   os.mkdir(file_path)\n",
        "\n",
        "# for f in files:\n",
        "#   download_tsv(os.path.join(base_url, f), os.path.join(file_path, f))\n",
        "\n",
        "\n"
      ]
    },
    {
      "cell_type": "code",
      "execution_count": null,
      "metadata": {
        "id": "1bLNR8PsV29r",
        "colab": {
          "base_uri": "https://localhost:8080/"
        },
        "outputId": "e9512fd3-6415-4da3-db4d-20872b648866"
      },
      "outputs": [
        {
          "output_type": "stream",
          "name": "stderr",
          "text": [
            "<ipython-input-21-14375b5267f3>:39: SettingWithCopyWarning: \n",
            "A value is trying to be set on a copy of a slice from a DataFrame.\n",
            "Try using .loc[row_indexer,col_indexer] = value instead\n",
            "\n",
            "See the caveats in the documentation: https://pandas.pydata.org/pandas-docs/stable/user_guide/indexing.html#returning-a-view-versus-a-copy\n",
            "  subject['biological_sex'] = subject['biological_sex'].map(lambda x:1 if x == 'Female' else 0)\n",
            "<ipython-input-21-14375b5267f3>:40: SettingWithCopyWarning: \n",
            "A value is trying to be set on a copy of a slice from a DataFrame.\n",
            "Try using .loc[row_indexer,col_indexer] = value instead\n",
            "\n",
            "See the caveats in the documentation: https://pandas.pydata.org/pandas-docs/stable/user_guide/indexing.html#returning-a-view-versus-a-copy\n",
            "  subject['infancy_vac'] = subject['infancy_vac'].map(lambda x:1 if x == 'aP' else 0)\n"
          ]
        }
      ],
      "source": [
        "# @title Reading in the files with set prefix.\n",
        "\n",
        "def read_in_file(path, prefix, rename = False):\n",
        "  data = pd.read_csv(path, sep = '\\t').T\n",
        "  data.index = data.index.map(int)\n",
        "  if rename != False:\n",
        "    data.columns = data.columns.map(rename)\n",
        "  data.columns = [prefix+'_'+p for p in data.columns]\n",
        "  return data\n",
        "\n",
        "timepoint = 3\n",
        "task = 'ccl3_task'\n",
        "targets = 'Cytokine_CCL3'\n",
        "data_type = 'batchCorrected'\n",
        "if os.path.exists(f'/content/drive/MyDrive/CMIPB_Files/{task}/') is False:\n",
        "  os.mkdir(f'/content/drive/MyDrive/CMIPB_Files/{task}/')\n",
        "file_path = '/content/drive/MyDrive/CMIPB_Files/Redownload/files'\n",
        "metadata = pd.read_csv(os.path.join(file_path, 'subject_specimen.tsv'), sep = '\\t')\n",
        "metadata['age'] = metadata.apply(lambda x:int(x.dataset.split('_')[0]) - int(x.year_of_birth.split('-')[0]), axis = 1)\n",
        "\n",
        "titre_data = read_in_file(os.path.join(file_path, f'abtiter_{data_type}_data.tsv'), 'Titre')\n",
        "\n",
        "cell_freq_data = read_in_file(os.path.join(file_path, f'pbmc_cell_frequency_{data_type}_data.tsv'), 'Cellfrequency')\n",
        "cytokine_data = read_in_file(os.path.join(file_path, f'plasma_cytokine_concentrations_{data_type}_data.tsv'), 'Cytokine', rename = cytokine_mapping)\n",
        "if data_type == 'batchCorrected':\n",
        "  gex_data = read_in_file(os.path.join(file_path, f'pbmc_gene_expression_batchCorrected_data.tsv'), 'GEX', rename = gene_mapping)\n",
        "else:\n",
        "  gex_data = read_in_file(os.path.join(file_path, f'pbmc_gene_expression_raw_data.tsv'), 'GEX', rename = gene_mapping)\n",
        "merged_obj = pd.merge(right = metadata, left = titre_data, left_index = True, right_on = 'specimen_id', how = 'right')\n",
        "merged_obj = pd.merge(right = merged_obj, left = gex_data, left_index = True, right_on = 'specimen_id', how = 'right')\n",
        "merged_obj = pd.merge(right = merged_obj, left = cytokine_data, left_index = True, right_on = 'specimen_id', how = 'right')\n",
        "merged_obj = pd.merge(right = merged_obj, left = cell_freq_data, left_index = True, right_on = 'specimen_id', how = 'right')\n",
        "\n",
        "baseline_values = merged_obj[merged_obj['timepoint']==0]\n",
        "assert baseline_values['subject_id'].value_counts().max() == 1\n",
        "prefixes = set(['Titre','Cellfrequency','Cytokine','GEX'])\n",
        "baseline_feats = baseline_values[[p for p in baseline_values.columns if p.split('_')[0] in prefixes]]\n",
        "subject = baseline_values[['subject_id', 'biological_sex', 'dataset', 'age', 'infancy_vac']]\n",
        "subject['biological_sex'] = subject['biological_sex'].map(lambda x:1 if x == 'Female' else 0)\n",
        "subject['infancy_vac'] = subject['infancy_vac'].map(lambda x:1 if x == 'aP' else 0)\n",
        "baseline_feats = pd.concat([baseline_feats, subject],axis=1)\n",
        "day14_values = merged_obj[merged_obj['timepoint']==timepoint][['subject_id', targets]].rename(columns = {targets: 'Target'}).set_index('subject_id')\n",
        "baseline_feats = pd.merge(left = baseline_feats, right = day14_values, right_index = True, left_on = 'subject_id')\n",
        "baseline_feats[f'Target_FC'] = baseline_feats.apply(lambda x:(x.Target+1)/(x[targets]+1), axis = 1)\n",
        "baseline_feats.to_csv(f'/content/drive/MyDrive/CMIPB_Files/{task}/IntegratedData_{data_type}.tsv', sep = '\\t')"
      ]
    },
    {
      "cell_type": "code",
      "source": [
        "%ls /content/drive/MyDrive/CMIPB_Files/Redownload/files/"
      ],
      "metadata": {
        "colab": {
          "base_uri": "https://localhost:8080/"
        },
        "id": "_-k86IDfmMBP",
        "outputId": "9fd70db4-c8ae-4cdb-bc41-c05c76e8da33"
      },
      "execution_count": null,
      "outputs": [
        {
          "output_type": "stream",
          "name": "stdout",
          "text": [
            "abtiter_batchCorrected_data.tsv              pbmc_gene_expression_batchCorrected.tsv\n",
            "abtiter_metadata.tsv                         pbmc_gene_expression_metadata.tsv\n",
            "abtiter_normalized_data.tsv                  pbmc_gene_expression_raw_data.tsv\n",
            "abtiter_raw_data.tsv                         plasma_cytokine_concentrations_batchCorrected.tsv\n",
            "pbmc_cell_frequency_batchCorrected_data.tsv  plasma_cytokine_concentrations_metadata.tsv\n",
            "pbmc_cell_frequency_metadata.tsv             plasma_cytokine_concentrations_normalized_data.tsv\n",
            "pbmc_cell_frequency_normalized_data.tsv      subject_specimen.tsv\n"
          ]
        }
      ]
    },
    {
      "cell_type": "code",
      "source": [
        "base_url = 'https://www.cmi-pb.org/downloads/cmipb_challenge_datasets/current/2nd_challenge/processed_datasets/prediction_dataset/'\n",
        "\n",
        "files_to_download = ['abtiter_processed_data.tsv', 'pbmc_cell_frequency_processed_data.tsv', 'pbmc_gene_expression_processed_data.tsv',\n",
        "                     'plasma_cytokine_concentrations_processed_data.tsv', 'subject_specimen.tsv']\n",
        "\n",
        "file_path = os.path.join(working_directory, 'test_files')\n",
        "if os.path.exists(file_path) is False:\n",
        "  os.mkdir(file_path)\n",
        "\n",
        "for f in files_to_download:\n",
        "  download_tsv(os.path.join(base_url, f), os.path.join(file_path, f))\n",
        "\n"
      ],
      "metadata": {
        "id": "XtEg4VbqZ-o8"
      },
      "execution_count": null,
      "outputs": []
    },
    {
      "cell_type": "code",
      "source": [
        "!ls {file_path}"
      ],
      "metadata": {
        "colab": {
          "base_uri": "https://localhost:8080/"
        },
        "id": "XFS_nmLua0wK",
        "outputId": "879cc1cd-d802-46e2-f2da-056a990e5a90"
      },
      "execution_count": null,
      "outputs": [
        {
          "output_type": "stream",
          "name": "stdout",
          "text": [
            "abtiter_processed_data.tsv\t\t plasma_cytokine_concentrations_processed_data.tsv\n",
            "pbmc_cell_frequency_processed_data.tsv\t subject_specimen.tsv\n",
            "pbmc_gene_expression_processed_data.tsv\n"
          ]
        }
      ]
    },
    {
      "cell_type": "code",
      "source": [
        "def read_in_file(path, prefix, rename = False):\n",
        "  data = pd.read_csv(path, sep = '\\t').T\n",
        "  data.index = data.index.map(int)\n",
        "  if rename != False:\n",
        "    data.columns = data.columns.map(rename)\n",
        "  data.columns = [prefix+'_'+p for p in data.columns]\n",
        "  return data\n",
        "\n",
        "metadata = pd.read_csv(os.path.join(file_path, 'subject_specimen.tsv'), sep = '\\t')\n",
        "metadata['age'] = metadata.apply(lambda x:int(x.dataset.split('_')[0]) - int(x.year_of_birth.split('-')[0]), axis = 1)\n",
        "titre_data = read_in_file(os.path.join(file_path, 'abtiter_processed_data.tsv'), 'Titre')\n",
        "cell_freq_data = read_in_file(os.path.join(file_path, 'pbmc_cell_frequency_processed_data.tsv'), 'Cellfrequency')\n",
        "cytokine_data = read_in_file(os.path.join(file_path, 'plasma_cytokine_concentrations_processed_data.tsv'), 'Cytokine', rename = cytokine_mapping)\n",
        "gex_data = read_in_file(os.path.join(file_path, 'pbmc_gene_expression_processed_data.tsv'), 'GEX', rename = gene_mapping)\n",
        "merged_obj = pd.merge(right = metadata, left = titre_data, left_index = True, right_on = 'specimen_id', how = 'right')\n",
        "merged_obj = pd.merge(right = merged_obj, left = gex_data, left_index = True, right_on = 'specimen_id', how = 'right')\n",
        "merged_obj = pd.merge(right = merged_obj, left = cytokine_data, left_index = True, right_on = 'specimen_id', how = 'right')\n",
        "merged_obj = pd.merge(right = merged_obj, left = cell_freq_data, left_index = True, right_on = 'specimen_id', how = 'right')\n",
        "training = merged_obj[merged_obj['dataset']!='2022_dataset']\n",
        "test = merged_obj[(merged_obj['dataset']=='2022_dataset')&(merged_obj['timepoint']<=0)]\n",
        "\n",
        "prefixes = set(['Titre','Cellfrequency','Cytokine','GEX'])\n",
        "test_median_vals = test.groupby(['subject_id']).apply(lambda x:x[[p for p in x.columns if p.split('_')[0] in prefixes]].median()).reset_index()\n",
        "test_median_vals = pd.merge(left = test_median_vals, right = metadata[metadata['dataset']=='2022_dataset'].drop_duplicates('subject_id').drop(['timepoint'],axis=1), left_on='subject_id',right_on='subject_id', how = 'left')\n",
        "test_median_vals.to_csv('/content/drive/MyDrive/CMIPB_Files/IntegratedTestData.tsv', sep = '\\t')"
      ],
      "metadata": {
        "id": "SE_fh5_EafXk"
      },
      "execution_count": null,
      "outputs": []
    },
    {
      "cell_type": "code",
      "source": [
        "def read_in_file(path, prefix, rename = False):\n",
        "  data = pd.read_csv(path, sep = '\\t').T\n",
        "  data.index = data.index.map(int)\n",
        "  if rename != False:\n",
        "    data.columns = data.columns.map(rename)\n",
        "  data.columns = [prefix+'_'+p for p in data.columns]\n",
        "  return data\n",
        "\n",
        "file_path = '/content/drive/MyDrive/CMIPB_Files/processed_including_training'\n",
        "\n",
        "metadata = pd.read_csv(os.path.join(file_path, 'processed_combinedsubject_specimen.tsv'), sep = '\\t')\n",
        "metadata['age'] = metadata.apply(lambda x:int(x.dataset.split('_')[0]) - int(x.year_of_birth.split('-')[0]), axis = 1)\n",
        "data_type = 'normalized'#'batchCorrected'\n",
        "titre_data = read_in_file(os.path.join(file_path, f'processed_combinedabtiter_{data_type}_data.tsv'), 'Titre')\n",
        "cell_freq_data = read_in_file(os.path.join(file_path, f'processed_combinedpbmc_cell_frequency_{data_type}_data.tsv'), 'Cellfrequency')\n",
        "cytokine_data = read_in_file(os.path.join(file_path, f'processed_combinedplasma_cytokine_concentrations_{data_type}_data.tsv'), 'Cytokine', rename = cytokine_mapping)\n",
        "if data_type == 'batchCorrected':\n",
        "  gex_data = read_in_file(os.path.join(file_path, f'processed_combinedpbmc_gene_expression_batchCorrected_data.tsv'), 'GEX', rename = gene_mapping)\n",
        "else:\n",
        "  gex_data = read_in_file(os.path.join(file_path, f'processed_combinedpbmc_gene_expression_raw_data.tsv'), 'GEX', rename = gene_mapping)\n",
        "merged_obj = pd.merge(right = metadata, left = titre_data, left_index = True, right_on = 'specimen_id', how = 'right')\n",
        "merged_obj = pd.merge(right = merged_obj, left = gex_data, left_index = True, right_on = 'specimen_id', how = 'right')\n",
        "merged_obj = pd.merge(right = merged_obj, left = cytokine_data, left_index = True, right_on = 'specimen_id', how = 'right')\n",
        "merged_obj = pd.merge(right = merged_obj, left = cell_freq_data, left_index = True, right_on = 'specimen_id', how = 'right')\n",
        "training = merged_obj[merged_obj['dataset']!='2022_dataset']\n",
        "test = merged_obj[(merged_obj['dataset']=='2022_dataset')&(merged_obj['timepoint']<=0)]\n",
        "\n",
        "prefixes = set(['Titre','Cellfrequency','Cytokine','GEX'])\n",
        "test_median_vals = test.groupby(['subject_id']).apply(lambda x:x[[p for p in x.columns if p.split('_')[0] in prefixes]].median()).reset_index()\n",
        "test_median_vals = pd.merge(left = test_median_vals, right = metadata[metadata['dataset']=='2022_dataset'].drop_duplicates('subject_id').drop(['timepoint'],axis=1), left_on='subject_id',right_on='subject_id', how = 'left')\n",
        "test_median_vals.to_csv('/content/drive/MyDrive/CMIPB_Files/IntegratedTestData.tsv', sep = '\\t')"
      ],
      "metadata": {
        "id": "cECkJuZQk52X"
      },
      "execution_count": null,
      "outputs": []
    },
    {
      "cell_type": "code",
      "execution_count": null,
      "metadata": {
        "id": "iVK1pEFzWTjf"
      },
      "outputs": [],
      "source": [
        "def combine_training(merged_obj, path = 'IntegratedData_Normalized.tsv'):\n",
        "  baseline_values = merged_obj[merged_obj['timepoint']==0]\n",
        "  assert baseline_values['subject_id'].value_counts().max() == 1\n",
        "  prefixes = set(['Titre','Cellfrequency','Cytokine','GEX'])\n",
        "  baseline_feats = baseline_values[[p for p in baseline_values.columns if p.split('_')[0] in prefixes]]\n",
        "  subject = baseline_values[['subject_id', 'biological_sex', 'dataset', 'age', 'infancy_vac']]\n",
        "  subject['biological_sex'] = subject['biological_sex'].map(lambda x:1 if x == 'Female' else 0)\n",
        "  subject['infancy_vac'] = subject['infancy_vac'].map(lambda x:1 if x == 'aP' else 0)\n",
        "  baseline_feats = pd.concat([baseline_feats, subject],axis=1)\n",
        "  day14_values = merged_obj[merged_obj['timepoint']==14][['subject_id', 'Titre_IgG_PT']].rename(columns = {'Titre_IgG_PT': 'Day14_IgG_Titre'}).set_index('subject_id')\n",
        "  baseline_feats = pd.merge(left = baseline_feats, right = day14_values, right_index = True, left_on = 'subject_id')\n",
        "  baseline_feats['Day14_IgG_FC'] = baseline_feats.apply(lambda x:(x.Day14_IgG_Titre+1)/(x['Titre_IgG_PT']+1), axis = 1)\n",
        "  baseline_feats.fillna('ND').to_csv(path, sep = '\\t')"
      ]
    },
    {
      "cell_type": "code",
      "execution_count": null,
      "metadata": {
        "id": "BcejHn5cuVMY"
      },
      "outputs": [],
      "source": [
        "def check_values(feature, original_file, subject_file, joined_file, subject):\n",
        "  assert feature in original_file.columns\n",
        "  specimen = subject_file[(subject_file['subject_id'] == subject) & (subject_file['timepoint'] == 0)]\n",
        "  assert specimen.shape[0] == 1\n",
        "  specimen = specimen.iloc[0]['specimen_id']\n",
        "  if str(joined_file[joined_file['subject_id']==subject][feature].iloc[0]) != 'nan':\n",
        "    assert joined_file[joined_file['subject_id']==subject][feature].iloc[0] == original_file.loc[specimen][feature]\n",
        "  else:\n",
        "    assert specimen not in original_file.index"
      ]
    },
    {
      "cell_type": "code",
      "execution_count": null,
      "metadata": {
        "id": "IbOHohYrvBib"
      },
      "outputs": [],
      "source": [
        "for feature in cell_freq_data.columns:\n",
        "  for subject in baseline_feats['subject_id'].unique():\n",
        "    check_values(feature, cell_freq_data, metadata, baseline_feats, subject = subject)\n",
        "print('Successful check on d0 cell frequency features.')"
      ]
    },
    {
      "cell_type": "code",
      "execution_count": null,
      "metadata": {
        "id": "j1BcBfIayG18"
      },
      "outputs": [],
      "source": [
        "for feature in titre_data.columns:\n",
        "  for subject in baseline_feats['subject_id'].unique():\n",
        "    check_values(feature, titre_data, metadata, baseline_feats, subject = subject)\n",
        "print('Successful check on d0 cell frequency features.')"
      ]
    },
    {
      "cell_type": "code",
      "execution_count": null,
      "metadata": {
        "id": "MY_iSgBqxqvc"
      },
      "outputs": [],
      "source": [
        "for feature in cytokine_data.columns:\n",
        "  for subject in baseline_feats['subject_id'].unique():\n",
        "    check_values(feature, cytokine_data, metadata, baseline_feats, subject = subject)\n",
        "print('Successful check on d0 olink features.')"
      ]
    },
    {
      "cell_type": "code",
      "execution_count": null,
      "metadata": {
        "colab": {
          "background_save": true
        },
        "id": "CaJHQDlaxxNg"
      },
      "outputs": [],
      "source": [
        "for feature in gex_data.columns:\n",
        "  for subject in baseline_feats['subject_id'].unique():\n",
        "    check_values(feature, gex_data, metadata, baseline_feats, subject = subject)\n",
        "print('Successful check on GEX features.')"
      ]
    },
    {
      "cell_type": "code",
      "execution_count": null,
      "metadata": {
        "id": "AOjy0fpiuSZT"
      },
      "outputs": [],
      "source": [
        "total_subjects = metadata['subject_id'].unique()\n",
        "print(f'Metadata file contains {len(total_subjects)} subjects.')\n",
        "d0_specimens = set(metadata[(metadata['timepoint']==0)]['specimen_id'].unique())\n",
        "cell_freq_sp = len(set(cell_freq_data.index).intersection(d0_specimens))\n",
        "print(f'Cell frequency data at D0 for {cell_freq_sp} subjects.')\n",
        "gex_sp = len(set(gex_data.index).intersection(d0_specimens))\n",
        "print(f'GEX data at D0 for {gex_sp} subjects.')\n",
        "titre_sp = len(set(titre_data.index).intersection(d0_specimens))\n",
        "print(f'Antibody titre data at D0 for {titre_specimens} subjects.')\n",
        "cytokine_sp = len(set(cytokine_data.index).intersection(d0_specimens))\n",
        "print(f'Antibody titre data at D0 for {cytokine_specimens} subjects.')\n"
      ]
    }
  ],
  "metadata": {
    "colab": {
      "provenance": []
    },
    "kernelspec": {
      "display_name": "Python 3",
      "name": "python3"
    },
    "language_info": {
      "name": "python"
    }
  },
  "nbformat": 4,
  "nbformat_minor": 0
}